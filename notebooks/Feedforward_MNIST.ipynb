{
 "cells": [
  {
   "cell_type": "markdown",
   "metadata": {},
   "source": [
    "# Feedfoward Multilayer perceptron "
   ]
  },
  {
   "cell_type": "markdown",
   "metadata": {},
   "source": [
    "## Imports"
   ]
  },
  {
   "cell_type": "code",
   "execution_count": 1,
   "metadata": {},
   "outputs": [],
   "source": [
    "import numpy as np\n",
    "from matplotlib import pyplot as plt\n",
    "from PIL import Image, ImageOps"
   ]
  },
  {
   "cell_type": "code",
   "execution_count": 5,
   "metadata": {},
   "outputs": [],
   "source": [
    "import sys\n",
    "sys.path.append('..')\n",
    "\n",
    "from data import MNIST\n",
    "from multilayer_perceptron import MLP\n",
    "from multilayer_perceptron.layers import InputLayer, DenseLayer, OutputLayer\n",
    "from multilayer_perceptron.activations import tanh, softmax, identity\n",
    "from multilayer_perceptron.costs import mean_square_cost, cross_entropy_cost"
   ]
  },
  {
   "cell_type": "markdown",
   "metadata": {},
   "source": [
    "## Load dataset"
   ]
  },
  {
   "cell_type": "code",
   "execution_count": 3,
   "metadata": {},
   "outputs": [],
   "source": [
    "def one_hot_encode(data):\n",
    "    encoded = np.zeros([len(data), 10])\n",
    "    for i in range(len(data)):\n",
    "        encoded[i, data[i]] = 1\n",
    "    return encoded"
   ]
  },
  {
   "cell_type": "code",
   "execution_count": 4,
   "metadata": {},
   "outputs": [],
   "source": [
    "mnist_dataset = MNIST()\n",
    "train_data, validation_data, test_data = mnist_dataset.load()\n",
    "\n",
    "train_data = (\n",
    "  train_data[0] / 255,\n",
    "  one_hot_encode(train_data[1])\n",
    ")\n",
    "\n",
    "validation_data = (\n",
    "  validation_data[0] / 255,\n",
    "  one_hot_encode(validation_data[1])\n",
    ")\n",
    "\n",
    "test_data = (\n",
    "  test_data[0] / 255,\n",
    "  one_hot_encode(test_data[1])\n",
    ")"
   ]
  },
  {
   "cell_type": "markdown",
   "metadata": {},
   "source": [
    "## Neural Network"
   ]
  },
  {
   "cell_type": "code",
   "execution_count": 6,
   "metadata": {},
   "outputs": [
    {
     "name": "stdout",
     "output_type": "stream",
     "text": [
      "Epoch: 29/30\tTrain: 0.052 | 1.000\tValid: 0.262 | 0.937"
     ]
    }
   ],
   "source": [
    "mlp = MLP()\n",
    "mlp.add(InputLayer(784))\n",
    "mlp.add(DenseLayer(30, tanh))\n",
    "mlp.add(OutputLayer(10, softmax, cross_entropy_cost))\n",
    "mlp.initialize_random_weights()\n",
    "mlp.fit(\n",
    "  train_data=train_data,\n",
    "  epochs=30,\n",
    "  learning_rate=0.1,\n",
    "  batch_size=10,\n",
    "  validation_data=validation_data\n",
    ")"
   ]
  },
  {
   "cell_type": "markdown",
   "metadata": {},
   "source": [
    "## Tests"
   ]
  },
  {
   "cell_type": "code",
   "execution_count": 7,
   "metadata": {},
   "outputs": [],
   "source": [
    "def get_random(data):\n",
    "    xdata, ydata = data\n",
    "    random = int(np.random.random() * len(xdata))\n",
    "    image = xdata[random]\n",
    "    label = np.argmax(ydata[random])\n",
    "    return image, label"
   ]
  },
  {
   "cell_type": "code",
   "execution_count": 37,
   "metadata": {},
   "outputs": [
    {
     "data": {
      "image/png": "[encoded data removed]",
      "text/plain": [
       "<Figure size 432x288 with 1 Axes>"
      ]
     },
     "metadata": {
      "needs_background": "light"
     },
     "output_type": "display_data"
    },
    {
     "name": "stdout",
     "output_type": "stream",
     "text": [
      "\u001b[1mI think it's a 0!\u001b[0m\n",
      "(Answer: 6)\n"
     ]
    }
   ],
   "source": [
    "image, label = get_random(test_data)\n",
    "\n",
    "plt.imshow(image.reshape((28, 28)))\n",
    "plt.set_cmap(plt.cm.binary)\n",
    "plt.axis('off')\n",
    "plt.show()\n",
    "\n",
    "mlp.feedfoward(np.atleast_2d(image))\n",
    "predict = np.argmax(mlp.layers[-1].output)\n",
    "print(f'\\033[1mI think it\\'s a {predict}!\\033[0m')\n",
    "print(f'(Answer: {label})')"
   ]
  }
 ],
 "metadata": {
  "kernelspec": {
   "display_name": "Python 3",
   "language": "python",
   "name": "python3"
  },
  "language_info": {
   "codemirror_mode": {
    "name": "ipython",
    "version": 3
   },
   "file_extension": ".py",
   "mimetype": "text/x-python",
   "name": "python",
   "nbconvert_exporter": "python",
   "pygments_lexer": "ipython3",
   "version": "3.8.5"
  }
 },
 "nbformat": 4,
 "nbformat_minor": 4
}
